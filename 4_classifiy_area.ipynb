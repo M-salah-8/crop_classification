{
 "cells": [
  {
   "cell_type": "code",
   "execution_count": null,
   "metadata": {},
   "outputs": [],
   "source": [
    "import os\n",
    "import rasterio\n",
    "import geopandas as gpd\n",
    "import rasterio.features\n",
    "from rasterio.plot import reshape_as_image\n",
    "import pickle"
   ]
  },
  {
   "cell_type": "code",
   "execution_count": null,
   "metadata": {},
   "outputs": [],
   "source": [
    "# load the model\n",
    "with open(os.path.join('data', 'trained_model.pkl'), \"rb\") as f:\n",
    "\trf= pickle.load(f)"
   ]
  },
  {
   "cell_type": "code",
   "execution_count": null,
   "metadata": {},
   "outputs": [],
   "source": [
    "stacked_tif_dr = os.path.join('data', 'stacked_bands.tif') # where stacked image is saved\n",
    "src = rasterio.open(stacked_tif_dr)\n",
    "meta = src.meta\n",
    "img = src.read()\n",
    "print(img.shape) # (bands, rows, cols)\n",
    "reshaped_img = reshape_as_image(img)\n",
    "print(reshaped_img.shape) # (rows, cols, bands)\n",
    "# Reshape to 2D array\n",
    "class_input = reshaped_img.reshape(-1, reshaped_img.shape[-1])\n",
    "print(class_input.shape) # (rows*cols, bands)"
   ]
  },
  {
   "cell_type": "code",
   "execution_count": null,
   "metadata": {},
   "outputs": [],
   "source": [
    "# Sentinel-2 stack classification\n",
    "class_RF_S2 = rf.predict(class_input)\n",
    "# Reshape our classification map back into a 2d array so we can visualize it\n",
    "class_RF_S2 = class_RF_S2.reshape(reshaped_img[:, :, 0].shape)"
   ]
  },
  {
   "cell_type": "code",
   "execution_count": null,
   "metadata": {},
   "outputs": [],
   "source": [
    "# mask non crop/agricultral areas\n",
    "agri_area = gpd.read_file('area/ag_only.geojson') #read shapefile\n",
    "agri_mask = rasterio.features.geometry_mask(\n",
    "  agri_area.geometry, out_shape=class_RF_S2.shape, transform=meta['transform'], invert=False\n",
    ")\n",
    "class_RF_S2[agri_mask] = 255"
   ]
  },
  {
   "cell_type": "code",
   "execution_count": null,
   "metadata": {},
   "outputs": [],
   "source": [
    "# export classified image\n",
    "meta.update(count=1, dtype= 'uint8', nodata=255)\n",
    "# Output file path for the stacked GeoTIFF\n",
    "output_path = os.path.join('results', 'classified.tif')\n",
    "# Write the stacked bands to the output GeoTIFF\n",
    "with rasterio.open(output_path, 'w', **meta) as dest:\n",
    "\tdest.write((class_RF_S2), 1)"
   ]
  }
 ],
 "metadata": {
  "kernelspec": {
   "display_name": ".venv",
   "language": "python",
   "name": "python3"
  },
  "language_info": {
   "codemirror_mode": {
    "name": "ipython",
    "version": 3
   },
   "file_extension": ".py",
   "mimetype": "text/x-python",
   "name": "python",
   "nbconvert_exporter": "python",
   "pygments_lexer": "ipython3",
   "version": "3.12.5"
  }
 },
 "nbformat": 4,
 "nbformat_minor": 2
}
