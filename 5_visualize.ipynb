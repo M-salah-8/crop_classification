{
 "cells": [
  {
   "cell_type": "code",
   "execution_count": null,
   "metadata": {},
   "outputs": [],
   "source": [
    "import os\n",
    "import rasterio\n",
    "import rasterio.mask\n",
    "import geopandas as gpd\n",
    "from funcs import Map"
   ]
  },
  {
   "cell_type": "code",
   "execution_count": null,
   "metadata": {},
   "outputs": [],
   "source": [
    "map = Map()\n",
    "class_colors = ['purple', 'green', 'goldenrod', 'brown']\n",
    "class_names = ['beans', 'potato', 'wheat', 'others']"
   ]
  },
  {
   "cell_type": "code",
   "execution_count": null,
   "metadata": {},
   "outputs": [],
   "source": [
    "src = rasterio.open(os.path.join('results', 'classified.tif'))\n",
    "title = 'Tatti Crop Classification'\n",
    "map.draw_map(src, class_names, class_colors, title)"
   ]
  },
  {
   "cell_type": "code",
   "execution_count": null,
   "metadata": {},
   "outputs": [],
   "source": [
    "# display only test area\n",
    "aoi = gpd.read_file(os.path.join('area', 'aoi.geojson'))\n",
    "src = rasterio.open(os.path.join('results', 'classified.tif'))\n",
    "croped_array, transform = rasterio.mask.mask(src, aoi.geometry, crop=True)\n",
    "meta = src.meta\n",
    "meta.update(width= croped_array.shape[2], height= croped_array.shape[1], transform= transform)\n",
    "with rasterio.open(os.path.join('results', 'classified_aoi.tif'), 'w', **meta) as dst:\n",
    "\tdst.write(croped_array)"
   ]
  },
  {
   "cell_type": "code",
   "execution_count": null,
   "metadata": {},
   "outputs": [],
   "source": [
    "src = rasterio.open(os.path.join('results', 'classified_aoi.tif'))\n",
    "title = 'Tatti Crop Classification (AOI)'\n",
    "map.draw_map(src, class_names, class_colors, title)"
   ]
  }
 ],
 "metadata": {
  "kernelspec": {
   "display_name": ".venv",
   "language": "python",
   "name": "python3"
  },
  "language_info": {
   "codemirror_mode": {
    "name": "ipython",
    "version": 3
   },
   "file_extension": ".py",
   "mimetype": "text/x-python",
   "name": "python",
   "nbconvert_exporter": "python",
   "pygments_lexer": "ipython3",
   "version": "3.12.5"
  }
 },
 "nbformat": 4,
 "nbformat_minor": 2
}
