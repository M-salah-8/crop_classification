{
 "cells": [
  {
   "cell_type": "code",
   "execution_count": null,
   "metadata": {},
   "outputs": [],
   "source": [
    "import ee\n",
    "import geopandas as gpd\n",
    "from funcs import export_image, getWeeklySentinelComposite"
   ]
  },
  {
   "cell_type": "code",
   "execution_count": null,
   "metadata": {},
   "outputs": [],
   "source": [
    "ee.Authenticate()\n",
    "ee.Initialize()"
   ]
  },
  {
   "cell_type": "markdown",
   "metadata": {},
   "source": [
    "## Data Acquisition (google earth engine)"
   ]
  },
  {
   "cell_type": "code",
   "execution_count": null,
   "metadata": {},
   "outputs": [],
   "source": [
    "project_shp = gpd.read_file('area/study_area.geojson') #read shapefile\n",
    "\n",
    "bbox = project_shp.total_bounds.tolist()\n",
    "aoi = ee.Geometry.Rectangle(bbox)"
   ]
  },
  {
   "cell_type": "code",
   "execution_count": null,
   "metadata": {},
   "outputs": [],
   "source": [
    "startDate = '2023-10-01'\n",
    "endDate = '2024-03-31'\n",
    "data_source = \"COPERNICUS/S2_SR_HARMONIZED\"\n",
    "s2_list_size, sen2w_list = getWeeklySentinelComposite(startDate, endDate, data_source, aoi)"
   ]
  },
  {
   "cell_type": "code",
   "execution_count": null,
   "metadata": {},
   "outputs": [],
   "source": [
    "# export images to drive\n",
    "for i in range(s2_list_size):\n",
    "  export_image(ee.Image(sen2w_list.get(i)), aoi)\n",
    "  print(f'{i+1} / {s2_list_size} done')"
   ]
  }
 ],
 "metadata": {
  "kernelspec": {
   "display_name": ".venv",
   "language": "python",
   "name": "python3"
  },
  "language_info": {
   "codemirror_mode": {
    "name": "ipython",
    "version": 3
   },
   "file_extension": ".py",
   "mimetype": "text/x-python",
   "name": "python",
   "nbconvert_exporter": "python",
   "pygments_lexer": "ipython3",
   "version": "3.12.5"
  }
 },
 "nbformat": 4,
 "nbformat_minor": 2
}
