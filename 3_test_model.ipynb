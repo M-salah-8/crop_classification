{
 "cells": [
  {
   "cell_type": "code",
   "execution_count": null,
   "metadata": {},
   "outputs": [],
   "source": [
    "import rasterio\n",
    "import pandas as pd\n",
    "import geopandas as gpd\n",
    "import os\n",
    "import glob\n",
    "from PIL import Image\n",
    "from IPython.display import display\n",
    "from funcs import plot_class_profiles, plot_class_profiles_mean, draw_table"
   ]
  },
  {
   "cell_type": "markdown",
   "metadata": {},
   "source": [
    "# Prepair data"
   ]
  },
  {
   "cell_type": "code",
   "execution_count": null,
   "metadata": {},
   "outputs": [],
   "source": [
    "# # test area (data and image were made using QGIS)\n",
    "# display(Image.open(os.path.join('examples', 'test_area.png')))"
   ]
  },
  {
   "cell_type": "code",
   "execution_count": null,
   "metadata": {},
   "outputs": [],
   "source": [
    "class_names = ['beans', 'potato', 'wheat', 'others']\n",
    "class_colors = ['purple', 'green', 'goldenrod', 'brown']\n",
    "bands = ['B2', 'B3', 'B4', 'B8', 'B11', 'B12','ndvi']   # add NDVI band (recommended in the literatures)\n",
    "data_dr = os.path.join('data', 's2') # where data is saved\n",
    "stacked_tif_dr = os.path.join('data', 'stacked_bands.tif') # where stacked image is saved"
   ]
  },
  {
   "cell_type": "code",
   "execution_count": null,
   "metadata": {},
   "outputs": [],
   "source": [
    "# sampling the tif file\n",
    "src = rasterio.open(stacked_tif_dr)\n",
    "tif_files = sorted(glob.glob(data_dr+'/*.tif'))\n",
    "test_pts = gpd.read_file(os.path.join('data','points','val_pts.shp'))\n",
    "test_pts = test_pts[['type','xcoord','ycoord','geometry']].sort_values(by=['type'])\t# mention xcoord, ycoord in docs\n",
    "coords = [(x,y) for x, y in zip(test_pts.xcoord, test_pts.ycoord)]\n",
    "test_pts['Raster Value'] = [x for x in src.sample(coords)]\t\t# mention same crs in docs\n",
    "\n",
    "# put every tif band in a column\n",
    "bands_names = []\n",
    "for tif_file in tif_files:\n",
    "  tif_name = os.path.basename(tif_file).split('.')[0]\n",
    "  for band in bands:\n",
    "    bands_names.append(f'{band}_{tif_name}')\n",
    "\n",
    "test_pts = pd.concat([test_pts, pd.DataFrame(test_pts['Raster Value'].tolist(), index=test_pts.index, columns=bands_names)], axis=1)\n",
    "test_pts = test_pts.drop(['xcoord','ycoord','geometry','Raster Value'], axis=1)\n",
    "test_pts.to_csv(os.path.join('data','test_pts.csv')) # save our training dataset to CSV\n",
    "test_pts.head() # visualize the first rows of the dataframe"
   ]
  },
  {
   "cell_type": "code",
   "execution_count": null,
   "metadata": {},
   "outputs": [],
   "source": [
    "# categories by class\n",
    "class_dfs_test = [test_pts[test_pts['type'] == 1].iloc[:,:],\n",
    "test_pts[test_pts['type'] == 2].iloc[:,:],\n",
    "test_pts[test_pts['type'] == 3].iloc[:,:],\n",
    "test_pts[test_pts['type'] == 5].iloc[:,:]]"
   ]
  },
  {
   "cell_type": "markdown",
   "metadata": {},
   "source": [
    "# Visualize and inspect"
   ]
  },
  {
   "cell_type": "code",
   "execution_count": null,
   "metadata": {},
   "outputs": [],
   "source": [
    "# Plot Class profiles over our dataset\n",
    "plot_class_profiles(class_dfs_test, class_colors, class_names, bands)"
   ]
  },
  {
   "cell_type": "code",
   "execution_count": null,
   "metadata": {},
   "outputs": [],
   "source": [
    "# Plot Class profiles over our dataset (mean)\n",
    "plot_class_profiles_mean(test_pts, class_colors, class_names, bands)"
   ]
  },
  {
   "cell_type": "markdown",
   "metadata": {},
   "source": [
    "# Test the model"
   ]
  },
  {
   "cell_type": "code",
   "execution_count": null,
   "metadata": {},
   "outputs": [],
   "source": [
    "from sklearn.metrics import classification_report\n",
    "from sklearn.metrics import confusion_matrix\n",
    "import pickle"
   ]
  },
  {
   "cell_type": "code",
   "execution_count": null,
   "metadata": {},
   "outputs": [],
   "source": [
    "# load the model\n",
    "with open(os.path.join('data', 'trained_model.pkl'), \"rb\") as f:\n",
    "\trf= pickle.load(f)"
   ]
  },
  {
   "cell_type": "code",
   "execution_count": null,
   "metadata": {},
   "outputs": [],
   "source": [
    "# Split test dataset to labels (y) and input features (x)\n",
    "y_test= test_pts['type'].values\n",
    "x_test = test_pts[[b for b in bands_names if \"B\" or 'ndvi' in b]].values\n",
    "\n",
    "# Check the shapes of our feature datasets\n",
    "print(f'The trainng data sizes are: Sentinel-2 {x_test.shape}, y {y_test.shape}')"
   ]
  },
  {
   "cell_type": "code",
   "execution_count": null,
   "metadata": {},
   "outputs": [],
   "source": [
    "# Run prediction on the test datastet\n",
    "y_pred_test = rf.predict(x_test)\n",
    "cr = classification_report(y_test, y_pred_test, target_names=class_names)\n",
    "print('Sentinel-2')\n",
    "print(cr)"
   ]
  },
  {
   "cell_type": "code",
   "execution_count": null,
   "metadata": {},
   "outputs": [],
   "source": [
    "# Save classification report\n",
    "report = classification_report(y_test, y_pred_test, target_names=class_names, output_dict=True)\n",
    "cr_df = pd.DataFrame(report).T\n",
    "cr_df = cr_df.reset_index()\n",
    "cr_df = cr_df.rename(columns={'index' :' '})\n",
    "cr_df.to_csv(os.path.join('results', 'classification_report.csv'), index=True)"
   ]
  },
  {
   "cell_type": "code",
   "execution_count": null,
   "metadata": {},
   "outputs": [],
   "source": [
    "# plot classification report\n",
    "cr_df = cr_df.round(2)\n",
    "draw_table(cr_df, 'Classification Report')"
   ]
  },
  {
   "cell_type": "code",
   "execution_count": null,
   "metadata": {},
   "outputs": [],
   "source": [
    "# Confusion Matrix\n",
    "from tabulate import tabulate\n",
    "cm = confusion_matrix(y_test, y_pred_test)\n",
    "\n",
    "# Prepare table data\n",
    "table_data = []\n",
    "# Table header\n",
    "table_data.append([\"True\"] + list(class_names))\n",
    "\n",
    "# Table rows\n",
    "for i, name in enumerate(class_names):\n",
    "    table_data.append([name] + list(cm[i]))\n",
    "\n",
    "# Print the table using tabulate library\n",
    "print(\"Confusion Matrix:\\n\")\n",
    "print(tabulate(table_data, headers=\"firstrow\", tablefmt=\"grid\"))"
   ]
  },
  {
   "cell_type": "code",
   "execution_count": null,
   "metadata": {},
   "outputs": [],
   "source": [
    "# save confusion matrix\n",
    "cm_df = pd.DataFrame(cm, index=class_names, columns=class_names)\n",
    "cm_df = cm_df.reset_index()\n",
    "cm_df = cm_df.rename(columns={'index' :' '})\n",
    "cm_df.to_csv(os.path.join('results', 'confusion_matrix.csv'), index=True)"
   ]
  },
  {
   "cell_type": "code",
   "execution_count": null,
   "metadata": {},
   "outputs": [],
   "source": [
    "# Plot confusion matrix\n",
    "draw_table(cm_df, 'Confusion Matrix')"
   ]
  }
 ],
 "metadata": {
  "kernelspec": {
   "display_name": ".venv",
   "language": "python",
   "name": "python3"
  },
  "language_info": {
   "codemirror_mode": {
    "name": "ipython",
    "version": 3
   },
   "file_extension": ".py",
   "mimetype": "text/x-python",
   "name": "python",
   "nbconvert_exporter": "python",
   "pygments_lexer": "ipython3",
   "version": "3.12.5"
  }
 },
 "nbformat": 4,
 "nbformat_minor": 2
}
